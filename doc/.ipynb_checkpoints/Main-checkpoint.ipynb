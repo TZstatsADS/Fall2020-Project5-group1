{
 "cells": [
  {
   "cell_type": "markdown",
   "metadata": {
    "id": "_qUTGgBH50bS"
   },
   "source": [
    "### Step 1: Import required libraries"
   ]
  },
  {
   "cell_type": "code",
   "execution_count": 1,
   "metadata": {
    "id": "FeniK-h650bT"
   },
   "outputs": [],
   "source": [
    "import pandas as pd\n",
    "import numpy as np\n",
    "import time\n",
    "import seaborn as sns\n",
    "from numpy import arange\n",
    "import statsmodels.api as sm\n",
    "import matplotlib.pyplot as plt\n",
    "from sklearn.preprocessing import StandardScaler\n",
    "from sklearn.model_selection import train_test_split\n",
    "from statsmodels.stats.outliers_influence import variance_inflation_factor\n",
    "from sklearn.naive_bayes import GaussianNB\n",
    "from sklearn.model_selection import StratifiedKFold\n",
    "from sklearn.model_selection import GridSearchCV\n",
    "from sklearn.metrics import accuracy_score\n",
    "from sklearn.preprocessing import label_binarize\n",
    "from sklearn.metrics import roc_curve, auc\n",
    "from sklearn.model_selection import cross_val_predict\n",
    "from itertools import cycle\n",
    "from catboost import CatBoostClassifier\n",
    "from sklearn.discriminant_analysis import QuadraticDiscriminantAnalysis\n",
    "from sklearn.decomposition import PCA\n",
    "from sklearn.feature_selection import SelectFromModel\n",
    "from sklearn.ensemble import RandomForestClassifier as RFC\n",
    "from sklearn.linear_model import LogisticRegression as LR\n",
    "from sklearn.model_selection import cross_val_score\n",
    "from sklearn.tree import DecisionTreeClassifier\n",
    "from sklearn.metrics import roc_auc_score\n",
    "from sklearn.neighbors import KNeighborsClassifier\n",
    "from sklearn.discriminant_analysis import LinearDiscriminantAnalysis as LDA\n",
    "from sklearn.metrics import balanced_accuracy_score\n",
    "from sklearn.model_selection import RepeatedStratifiedKFold\n",
    "from xgboost import XGBClassifier\n",
    "from sklearn.svm import SVC"
   ]
  },
  {
   "cell_type": "code",
   "execution_count": 16,
   "metadata": {},
   "outputs": [],
   "source": [
    "import warnings\n",
    "warnings.filterwarnings('ignore')"
   ]
  },
  {
   "cell_type": "markdown",
   "metadata": {
    "id": "4aFBsn2b50bU"
   },
   "source": [
    "### Step 2: Data Cleaning"
   ]
  },
  {
   "cell_type": "markdown",
   "metadata": {},
   "source": [
    "#### 1. Read in data"
   ]
  },
  {
   "cell_type": "code",
   "execution_count": 3,
   "metadata": {
    "colab": {
     "base_uri": "https://localhost:8080/",
     "height": 392
    },
    "id": "euA7GyEB50bU",
    "outputId": "774b6bf8-9f8c-4b68-a3cb-e1253c6ba330"
   },
   "outputs": [],
   "source": [
    "train=pd.read_csv(\"../data/train.csv\") #2000*21\n",
    "test=pd.read_csv(\"../data/test.csv\") #1000*21"
   ]
  },
  {
   "cell_type": "code",
   "execution_count": 4,
   "metadata": {
    "colab": {
     "base_uri": "https://localhost:8080/",
     "height": 224
    },
    "id": "-pwc4k8r50bU",
    "outputId": "66473a3e-2576-4166-fb4a-d0a7919d83f0"
   },
   "outputs": [
    {
     "data": {
      "text/html": [
       "<div>\n",
       "<style scoped>\n",
       "    .dataframe tbody tr th:only-of-type {\n",
       "        vertical-align: middle;\n",
       "    }\n",
       "\n",
       "    .dataframe tbody tr th {\n",
       "        vertical-align: top;\n",
       "    }\n",
       "\n",
       "    .dataframe thead th {\n",
       "        text-align: right;\n",
       "    }\n",
       "</style>\n",
       "<table border=\"1\" class=\"dataframe\">\n",
       "  <thead>\n",
       "    <tr style=\"text-align: right;\">\n",
       "      <th></th>\n",
       "      <th>battery_power</th>\n",
       "      <th>blue</th>\n",
       "      <th>clock_speed</th>\n",
       "      <th>dual_sim</th>\n",
       "      <th>fc</th>\n",
       "      <th>four_g</th>\n",
       "      <th>int_memory</th>\n",
       "      <th>m_dep</th>\n",
       "      <th>mobile_wt</th>\n",
       "      <th>n_cores</th>\n",
       "      <th>...</th>\n",
       "      <th>px_width</th>\n",
       "      <th>ram</th>\n",
       "      <th>sc_h</th>\n",
       "      <th>sc_w</th>\n",
       "      <th>talk_time</th>\n",
       "      <th>three_g</th>\n",
       "      <th>touch_screen</th>\n",
       "      <th>wifi</th>\n",
       "      <th>price_range</th>\n",
       "      <th>id</th>\n",
       "    </tr>\n",
       "  </thead>\n",
       "  <tbody>\n",
       "    <tr>\n",
       "      <th>0</th>\n",
       "      <td>842</td>\n",
       "      <td>0</td>\n",
       "      <td>2.2</td>\n",
       "      <td>0</td>\n",
       "      <td>1</td>\n",
       "      <td>0</td>\n",
       "      <td>7</td>\n",
       "      <td>0.6</td>\n",
       "      <td>188</td>\n",
       "      <td>2</td>\n",
       "      <td>...</td>\n",
       "      <td>756</td>\n",
       "      <td>2549</td>\n",
       "      <td>9</td>\n",
       "      <td>7</td>\n",
       "      <td>19</td>\n",
       "      <td>0</td>\n",
       "      <td>0</td>\n",
       "      <td>1</td>\n",
       "      <td>1.0</td>\n",
       "      <td>NaN</td>\n",
       "    </tr>\n",
       "    <tr>\n",
       "      <th>1</th>\n",
       "      <td>1021</td>\n",
       "      <td>1</td>\n",
       "      <td>0.5</td>\n",
       "      <td>1</td>\n",
       "      <td>0</td>\n",
       "      <td>1</td>\n",
       "      <td>53</td>\n",
       "      <td>0.7</td>\n",
       "      <td>136</td>\n",
       "      <td>3</td>\n",
       "      <td>...</td>\n",
       "      <td>1988</td>\n",
       "      <td>2631</td>\n",
       "      <td>17</td>\n",
       "      <td>3</td>\n",
       "      <td>7</td>\n",
       "      <td>1</td>\n",
       "      <td>1</td>\n",
       "      <td>0</td>\n",
       "      <td>2.0</td>\n",
       "      <td>NaN</td>\n",
       "    </tr>\n",
       "    <tr>\n",
       "      <th>2</th>\n",
       "      <td>563</td>\n",
       "      <td>1</td>\n",
       "      <td>0.5</td>\n",
       "      <td>1</td>\n",
       "      <td>2</td>\n",
       "      <td>1</td>\n",
       "      <td>41</td>\n",
       "      <td>0.9</td>\n",
       "      <td>145</td>\n",
       "      <td>5</td>\n",
       "      <td>...</td>\n",
       "      <td>1716</td>\n",
       "      <td>2603</td>\n",
       "      <td>11</td>\n",
       "      <td>2</td>\n",
       "      <td>9</td>\n",
       "      <td>1</td>\n",
       "      <td>1</td>\n",
       "      <td>0</td>\n",
       "      <td>2.0</td>\n",
       "      <td>NaN</td>\n",
       "    </tr>\n",
       "    <tr>\n",
       "      <th>3</th>\n",
       "      <td>615</td>\n",
       "      <td>1</td>\n",
       "      <td>2.5</td>\n",
       "      <td>0</td>\n",
       "      <td>0</td>\n",
       "      <td>0</td>\n",
       "      <td>10</td>\n",
       "      <td>0.8</td>\n",
       "      <td>131</td>\n",
       "      <td>6</td>\n",
       "      <td>...</td>\n",
       "      <td>1786</td>\n",
       "      <td>2769</td>\n",
       "      <td>16</td>\n",
       "      <td>8</td>\n",
       "      <td>11</td>\n",
       "      <td>1</td>\n",
       "      <td>0</td>\n",
       "      <td>0</td>\n",
       "      <td>2.0</td>\n",
       "      <td>NaN</td>\n",
       "    </tr>\n",
       "    <tr>\n",
       "      <th>4</th>\n",
       "      <td>1821</td>\n",
       "      <td>1</td>\n",
       "      <td>1.2</td>\n",
       "      <td>0</td>\n",
       "      <td>13</td>\n",
       "      <td>1</td>\n",
       "      <td>44</td>\n",
       "      <td>0.6</td>\n",
       "      <td>141</td>\n",
       "      <td>2</td>\n",
       "      <td>...</td>\n",
       "      <td>1212</td>\n",
       "      <td>1411</td>\n",
       "      <td>8</td>\n",
       "      <td>2</td>\n",
       "      <td>15</td>\n",
       "      <td>1</td>\n",
       "      <td>1</td>\n",
       "      <td>0</td>\n",
       "      <td>1.0</td>\n",
       "      <td>NaN</td>\n",
       "    </tr>\n",
       "  </tbody>\n",
       "</table>\n",
       "<p>5 rows × 22 columns</p>\n",
       "</div>"
      ],
      "text/plain": [
       "   battery_power  blue  clock_speed  dual_sim  fc  four_g  int_memory  m_dep  \\\n",
       "0            842     0          2.2         0   1       0           7    0.6   \n",
       "1           1021     1          0.5         1   0       1          53    0.7   \n",
       "2            563     1          0.5         1   2       1          41    0.9   \n",
       "3            615     1          2.5         0   0       0          10    0.8   \n",
       "4           1821     1          1.2         0  13       1          44    0.6   \n",
       "\n",
       "   mobile_wt  n_cores  ...  px_width   ram  sc_h  sc_w  talk_time  three_g  \\\n",
       "0        188        2  ...       756  2549     9     7         19        0   \n",
       "1        136        3  ...      1988  2631    17     3          7        1   \n",
       "2        145        5  ...      1716  2603    11     2          9        1   \n",
       "3        131        6  ...      1786  2769    16     8         11        1   \n",
       "4        141        2  ...      1212  1411     8     2         15        1   \n",
       "\n",
       "   touch_screen  wifi  price_range  id  \n",
       "0             0     1          1.0 NaN  \n",
       "1             1     0          2.0 NaN  \n",
       "2             1     0          2.0 NaN  \n",
       "3             0     0          2.0 NaN  \n",
       "4             1     0          1.0 NaN  \n",
       "\n",
       "[5 rows x 22 columns]"
      ]
     },
     "execution_count": 4,
     "metadata": {},
     "output_type": "execute_result"
    }
   ],
   "source": [
    "df_Merge = train.append(test,sort=False)\n",
    "df_Merge.head()"
   ]
  },
  {
   "cell_type": "markdown",
   "metadata": {
    "id": "NRdt_Lr-50bV"
   },
   "source": [
    "#### 2. Merge train and test together"
   ]
  },
  {
   "cell_type": "code",
   "execution_count": 5,
   "metadata": {
    "colab": {
     "base_uri": "https://localhost:8080/"
    },
    "id": "_S9DDM6250bV",
    "outputId": "4be0bdab-b497-4541-bf2f-269846186a94",
    "scrolled": true
   },
   "outputs": [
    {
     "data": {
      "text/plain": [
       "battery_power       0\n",
       "blue                0\n",
       "clock_speed         0\n",
       "dual_sim            0\n",
       "fc                  0\n",
       "four_g              0\n",
       "int_memory          0\n",
       "m_dep               0\n",
       "mobile_wt           0\n",
       "n_cores             0\n",
       "pc                  0\n",
       "px_height           0\n",
       "px_width            0\n",
       "ram                 0\n",
       "sc_h                0\n",
       "sc_w                0\n",
       "talk_time           0\n",
       "three_g             0\n",
       "touch_screen        0\n",
       "wifi                0\n",
       "price_range      1000\n",
       "id               2000\n",
       "dtype: int64"
      ]
     },
     "execution_count": 5,
     "metadata": {},
     "output_type": "execute_result"
    }
   ],
   "source": [
    "df_Merge.isnull().sum() # no price_range column for test data; no id column for train data"
   ]
  },
  {
   "cell_type": "markdown",
   "metadata": {},
   "source": [
    "#### 3. Rename variables and remove null variable"
   ]
  },
  {
   "cell_type": "code",
   "execution_count": 6,
   "metadata": {},
   "outputs": [],
   "source": [
    "df_Merge = df_Merge.rename(columns={\"blue\":\"bluetooth\", \"fc\":'front_camera', \n",
    "            'int_memory':\"internal_memory\", 'm_dep':\"mobile_depth\",\n",
    "            'pc':\"primary_camera\", 'talk_time':'battery_time'})"
   ]
  },
  {
   "cell_type": "code",
   "execution_count": 7,
   "metadata": {
    "id": "FUhY7pbY50bW"
   },
   "outputs": [],
   "source": [
    "df_Merge = df_Merge.drop(['id'],axis=1) # Drop id column "
   ]
  },
  {
   "cell_type": "markdown",
   "metadata": {
    "id": "qPWgexYJ50bW"
   },
   "source": [
    "### Step 3: Exploratory Data Analysis"
   ]
  },
  {
   "cell_type": "markdown",
   "metadata": {},
   "source": [
    "#### 1.  Correlation between numerical feature\n",
    "* The primary camera mega pixels and the front camera mega pixels are highly correlated\n",
    "* The pixel resolution height and pixel resolution width are highly correlated\n",
    "* The screen height and screen width are highly correlated\n",
    "* Battery is uncorrelated with all other numerical variables in general"
   ]
  },
  {
   "cell_type": "code",
   "execution_count": 15,
   "metadata": {
    "colab": {
     "base_uri": "https://localhost:8080/",
     "height": 787
    },
    "id": "7KPfFVKK50bW",
    "outputId": "acad2736-96c0-4cf3-ceb6-945a159b9a3f"
   },
   "outputs": [
    {
     "data": {
      "image/png": "[encoded data removed]",
      "text/plain": [
       "<Figure size 1152x864 with 2 Axes>"
      ]
     },
     "metadata": {
      "needs_background": "light"
     },
     "output_type": "display_data"
    }
   ],
   "source": [
    "features = ['battery_power', 'clock_speed', 'front_camera', \n",
    "            'internal_memory', 'mobile_depth', 'mobile_wt', 'n_cores', 'primary_camera', \n",
    "            'px_height', 'px_width', 'ram', 'sc_h', 'sc_w', 'battery_time']\n",
    "\n",
    "mask = np.zeros_like(df_Merge[features].corr(), dtype=np.bool) \n",
    "mask[np.triu_indices_from(mask)] = True \n",
    "\n",
    "f, ax = plt.subplots(figsize=(16, 12))\n",
    "plt.title('Pearson Correlation Matrix',fontsize=25)\n",
    "\n",
    "sns.heatmap(df_Merge[features].corr(),linewidths=0.25,vmax=0.7,square=True,cmap=\"BuGn\",\n",
    "            linecolor='w',annot=True,annot_kws={\"size\":8},mask=mask,cbar_kws={\"shrink\": .9})\n",
    "plt.show()"
   ]
  },
  {
   "cell_type": "markdown",
   "metadata": {
    "id": "hj5pk4u950bW"
   },
   "source": [
    "#### 2. price_range vs. ram\n",
    "* The distribution curve are changing form right skew to left skew as the price range getting higher, which means higher price range corresponding to higher RAM"
   ]
  },
  {
   "cell_type": "code",
   "execution_count": 30,
   "metadata": {
    "colab": {
     "base_uri": "https://localhost:8080/",
     "height": 381
    },
    "id": "G1-9qXW450bX",
    "outputId": "0a36d86e-c584-4f17-b808-bd0bf215d108",
    "scrolled": true
   },
   "outputs": [
    {
     "data": {
      "image/png": "[encoded data removed]",
      "text/plain": [
       "<Figure size 643x576 with 4 Axes>"
      ]
     },
     "metadata": {
      "needs_background": "light"
     },
     "output_type": "display_data"
    }
   ],
   "source": [
    "g = sns.FacetGrid(df_Merge, col=\"price_range\", hue=\"price_range\", \n",
    "                  palette=\"Set1\", col_wrap=2, height=4)\n",
    "g = (g.map(sns.distplot, \"ram\").add_legend());"
   ]
  },
  {
   "cell_type": "code",
   "execution_count": 32,
   "metadata": {
    "colab": {
     "base_uri": "https://localhost:8080/",
     "height": 460
    },
    "id": "iG021pcl50bX",
    "outputId": "130b27a9-2419-4ffb-8ea7-056fe575c2b6"
   },
   "outputs": [
    {
     "data": {
      "image/png": "[encoded data removed]",
      "text/plain": [
       "<Figure size 1008x504 with 1 Axes>"
      ]
     },
     "metadata": {
      "needs_background": "light"
     },
     "output_type": "display_data"
    }
   ],
   "source": [
    "df_cut = pd.DataFrame()\n",
    "df_cut[\"Ram\"] = pd.cut(df_Merge[\"ram\"],3,labels=[\"low\",\"medium\",\"heigh\"])\n",
    "df_cut[\"Price Range\"] = df_Merge[\"price_range\"]\n",
    "\n",
    "plt.figure(figsize=(14,7))  \n",
    "sns.countplot(data=df_cut,x=\"Ram\",hue=\"Price Range\",palette=\"Set2\")\n",
    "plt.title(\"Count Plot\",fontsize=16)\n",
    "plt.xlabel(\"Ram\")\n",
    "plt.ylabel(\"Count\")\n",
    "plt.show()"
   ]
  },
  {
   "cell_type": "markdown",
   "metadata": {
    "id": "HSflT-kg50bX"
   },
   "source": [
    "#### 3. price_range vs. battery_power"
   ]
  },
  {
   "cell_type": "code",
   "execution_count": 33,
   "metadata": {
    "colab": {
     "base_uri": "https://localhost:8080/",
     "height": 460
    },
    "id": "RDSAN4Uo50bX",
    "outputId": "eb0479cf-9c9b-42f0-dd95-54ff6c2dd651"
   },
   "outputs": [
    {
     "data": {
      "image/png": "[encoded data removed]",
      "text/plain": [
       "<Figure size 1008x504 with 1 Axes>"
      ]
     },
     "metadata": {
      "needs_background": "light"
     },
     "output_type": "display_data"
    }
   ],
   "source": [
    "df_cut[\"Battery Power\"] = pd.cut(df_Merge[\"battery_power\"],3,labels=[\"low\",\"medium\",\"heigh\"])\n",
    "plt.figure(figsize=(14,7))  \n",
    "sns.countplot(data=df_cut,x=\"Battery Power\",hue=\"Price Range\",palette=\"Paired\")\n",
    "plt.title(\"price_range vs. battery power\",fontsize=16)\n",
    "plt.xlabel(\"Battery Power\")\n",
    "plt.ylabel(\"Count\")\n",
    "plt.show()"
   ]
  },
  {
   "cell_type": "markdown",
   "metadata": {
    "id": "gMllsNHU50bY"
   },
   "source": [
    "### Scale columns"
   ]
  },
  {
   "cell_type": "code",
   "execution_count": 7,
   "metadata": {
    "id": "-JEINXSD50bY"
   },
   "outputs": [],
   "source": [
    "standardScaler = StandardScaler()\n",
    "columns_to_scale = ['battery_power', 'clock_speed', 'int_memory', 'mobile_wt', 'px_height','px_width','ram','sc_h','sc_w','talk_time']\n",
    "df_Merge[columns_to_scale] = standardScaler.fit_transform(df_Merge[columns_to_scale])"
   ]
  },
  {
   "cell_type": "code",
   "execution_count": 8,
   "metadata": {
    "id": "hYkmZpUL50bY"
   },
   "outputs": [],
   "source": [
    "df_Train=df_Merge[0:2000]\n",
    "df_Test=df_Merge[2000:]"
   ]
  },
  {
   "cell_type": "code",
   "execution_count": 9,
   "metadata": {
    "id": "A4dp4_-Z50bY"
   },
   "outputs": [],
   "source": [
    "df_Test = df_Test.drop(['price_range'],axis=1)"
   ]
  },
  {
   "cell_type": "code",
   "execution_count": 10,
   "metadata": {
    "id": "O2Ml-3cd50bY"
   },
   "outputs": [],
   "source": [
    "X=df_Train.drop(['price_range'],axis=1)\n",
    "y=df_Train.price_range"
   ]
  },
  {
   "cell_type": "markdown",
   "metadata": {
    "id": "b7LucCSs50bY"
   },
   "source": [
    "### Test-train Split"
   ]
  },
  {
   "cell_type": "code",
   "execution_count": 35,
   "metadata": {
    "id": "7seghWre50bZ"
   },
   "outputs": [],
   "source": [
    "X_train,X_test,y_train,y_test=train_test_split(X,y,test_size=0.3,random_state=0)"
   ]
  },
  {
   "cell_type": "code",
   "execution_count": 16,
   "metadata": {
    "id": "4ufzVL1c50bZ"
   },
   "outputs": [],
   "source": [
    "x_temp_train1 = sm.add_constant(X_train)\n",
    "vif_train1 = pd.DataFrame()\n",
    "vif_train1[\"VIF Factor\"] = [variance_inflation_factor(x_temp_train1.values, i) for i in range(x_temp_train1.values.shape[1])]\n",
    "vif_train1[\"features\"] = x_temp_train1.columns\n",
    "vif_train1_a=vif_train1[vif_train1[\"VIF Factor\"]<5.0]\n",
    "feat_list=vif_train1_a[\"features\"].tolist() \n",
    "# len(feat_list) = 20 # no serious multicollinearity"
   ]
  },
  {
   "cell_type": "markdown",
   "metadata": {
    "id": "HlPxmcRa50bZ"
   },
   "source": [
    "# Part 3: Models"
   ]
  },
  {
   "cell_type": "markdown",
   "metadata": {
    "id": "8kn7ge_Q50bZ"
   },
   "source": [
    "## Model 1:  Naive Bayes"
   ]
  },
  {
   "cell_type": "code",
   "execution_count": null,
   "metadata": {
    "colab": {
     "base_uri": "https://localhost:8080/"
    },
    "id": "PriZ_EaZ50bZ",
    "outputId": "0f23784c-50a1-41a4-92b9-a700f3a4f04d"
   },
   "outputs": [
    {
     "name": "stdout",
     "output_type": "stream",
     "text": [
      "CPU times: user 77.9 ms, sys: 55 ms, total: 133 ms\n",
      "Wall time: 74 ms\n",
      "0.8266666666666667\n"
     ]
    }
   ],
   "source": [
    "params = {}\n",
    "#gridsearch searches for the best hyperparameters and keeps the classifier with the highest recall score\n",
    "skf = StratifiedKFold(n_splits=10)\n",
    "\n",
    "nb = GridSearchCV(GaussianNB(), cv=skf, param_grid=params)\n",
    "\n",
    "%time nb.fit(X_train, y_train)\n",
    "gnb_2 = nb.fit(X_train, y_train)\n",
    "y_pred_nb2 = gnb_2.predict(X_test) \n",
    "\n",
    "print(accuracy_score(y_test, y_pred_nb2))"
   ]
  },
  {
   "cell_type": "code",
   "execution_count": null,
   "metadata": {
    "colab": {
     "base_uri": "https://localhost:8080/",
     "height": 404
    },
    "id": "r9Z7_auT50ba",
    "outputId": "a27b09be-8068-4808-ba2c-ff564817f88d"
   },
   "outputs": [
    {
     "data": {
      "image/png": "[encoded data removed]",
      "text/plain": [
       "<Figure size 720x432 with 1 Axes>"
      ]
     },
     "metadata": {
      "needs_background": "light",
      "tags": []
     },
     "output_type": "display_data"
    }
   ],
   "source": [
    "X1 = X_train.to_numpy()\n",
    "y1 = y_train.to_numpy()\n",
    "\n",
    "# Binarize the output\n",
    "y_bin = label_binarize(y1, classes=[0, 1, 2, 3])\n",
    "n_classes = y_bin.shape[1]\n",
    "\n",
    "clf = gnb_2\n",
    "y_score = cross_val_predict(clf, X1, y1, cv=10 ,method='predict_proba')\n",
    "\n",
    "fpr = dict()\n",
    "tpr = dict()\n",
    "roc_auc = dict()\n",
    "for i in range(n_classes):\n",
    "    fpr[i], tpr[i], _ = roc_curve(y_bin[:, i], y_score[:, i])\n",
    "    roc_auc[i] = auc(fpr[i], tpr[i])\n",
    "colors = cycle(['blue', 'red', 'green','orange'])\n",
    "\n",
    "plt.figure(figsize=(10,6))\n",
    "\n",
    "for i, color in zip(range(n_classes), colors):\n",
    "    plt.plot(fpr[i], tpr[i], color=color,\n",
    "             label='ROC curve of class {0} (area = {1:0.2f})'\n",
    "             ''.format(i, roc_auc[i]))\n",
    "\n",
    "plt.plot([0, 1], [0, 1], 'k--',linewidth=0.001)\n",
    "plt.xlim([-0.05, 1.0])\n",
    "plt.ylim([0.0, 1.05])\n",
    "plt.xlabel('False Positive Rate')\n",
    "plt.ylabel('True Positive Rate')\n",
    "plt.title('Receiver operating characteristic for multi-class data')\n",
    "plt.legend(loc=\"lower right\")\n",
    "plt.show()"
   ]
  },
  {
   "cell_type": "markdown",
   "metadata": {
    "id": "JPEyyqEp50ba"
   },
   "source": [
    "## Model 2: Catboost"
   ]
  },
  {
   "cell_type": "code",
   "execution_count": null,
   "metadata": {
    "colab": {
     "base_uri": "https://localhost:8080/",
     "height": 232
    },
    "id": "TiTZ5TTJ50bb",
    "outputId": "13c36e0b-4de6-462b-db71-ce8fb64d8041"
   },
   "outputs": [
    {
     "ename": "NameError",
     "evalue": "ignored",
     "output_type": "error",
     "traceback": [
      "\u001b[0;31m---------------------------------------------------------------------------\u001b[0m",
      "\u001b[0;31mNameError\u001b[0m                                 Traceback (most recent call last)",
      "\u001b[0;32m<ipython-input-37-dd21e548d401>\u001b[0m in \u001b[0;36m<module>\u001b[0;34m()\u001b[0m\n\u001b[0;32m----> 1\u001b[0;31m CB_Classifier = CatBoostClassifier(iterations=100,verbose=True,\n\u001b[0m\u001b[1;32m      2\u001b[0m                         learning_rate=0.20,depth=2,l2_leaf_reg=100,bagging_temperature=0.5)\n\u001b[1;32m      3\u001b[0m \u001b[0;34m\u001b[0m\u001b[0m\n\u001b[1;32m      4\u001b[0m \u001b[0mget_ipython\u001b[0m\u001b[0;34m(\u001b[0m\u001b[0;34m)\u001b[0m\u001b[0;34m.\u001b[0m\u001b[0mmagic\u001b[0m\u001b[0;34m(\u001b[0m\u001b[0;34m\"time CB_Classifier.fit(X_train, y_train,logging_level='Silent')\"\u001b[0m\u001b[0;34m)\u001b[0m\u001b[0;34m\u001b[0m\u001b[0;34m\u001b[0m\u001b[0m\n\u001b[1;32m      5\u001b[0m \u001b[0mCB\u001b[0m \u001b[0;34m=\u001b[0m \u001b[0mCB_Classifier\u001b[0m\u001b[0;34m.\u001b[0m\u001b[0mfit\u001b[0m\u001b[0;34m(\u001b[0m\u001b[0mX_train\u001b[0m\u001b[0;34m,\u001b[0m \u001b[0my_train\u001b[0m\u001b[0;34m,\u001b[0m\u001b[0mlogging_level\u001b[0m\u001b[0;34m=\u001b[0m\u001b[0;34m'Silent'\u001b[0m\u001b[0;34m)\u001b[0m\u001b[0;34m\u001b[0m\u001b[0;34m\u001b[0m\u001b[0m\n",
      "\u001b[0;31mNameError\u001b[0m: name 'CatBoostClassifier' is not defined"
     ]
    }
   ],
   "source": [
    "CB_Classifier = CatBoostClassifier(iterations=100,verbose=True,\n",
    "                        learning_rate=0.20,depth=2,l2_leaf_reg=100,bagging_temperature=0.5)\n",
    "\n",
    "%time CB_Classifier.fit(X_train, y_train,logging_level='Silent')\n",
    "CB = CB_Classifier.fit(X_train, y_train,logging_level='Silent')"
   ]
  },
  {
   "cell_type": "code",
   "execution_count": null,
   "metadata": {
    "id": "8kxLFFo-50bb"
   },
   "outputs": [],
   "source": [
    "pred_CB = CB.predict(X_test)\n",
    "print(accuracy_score(y_test, pred_CB))"
   ]
  },
  {
   "cell_type": "code",
   "execution_count": null,
   "metadata": {
    "id": "YOLtEgAl50bb"
   },
   "outputs": [],
   "source": [
    "X1 = X_train.to_numpy()\n",
    "y1 = y_train.to_numpy()\n",
    "\n",
    "# Binarize the output\n",
    "y_bin = label_binarize(y1, classes=[0, 1, 2, 3])\n",
    "n_classes = y_bin.shape[1]\n",
    "\n",
    "y_score = cross_val_predict(CB, X1, y1, cv=10, method='predict_proba')\n",
    "\n",
    "fpr = dict()\n",
    "tpr = dict()\n",
    "roc_auc = dict()\n",
    "for i in range(n_classes):\n",
    "    fpr[i], tpr[i], _ = roc_curve(y_bin[:, i], y_score[:, i])\n",
    "    roc_auc[i] = auc(fpr[i], tpr[i])\n",
    "colors = cycle(['blue', 'red', 'green','orange'])\n",
    "\n",
    "plt.figure(figsize=(10,6))\n",
    "\n",
    "for i, color in zip(range(n_classes), colors):\n",
    "    plt.plot(fpr[i], tpr[i], color=color,\n",
    "             label='ROC curve of class {0} (area = {1:0.2f})'\n",
    "             ''.format(i, roc_auc[i]))\n",
    "\n",
    "plt.plot([0, 1], [0, 1], 'k--',linewidth=0.001)\n",
    "plt.xlim([-0.05, 1.0])\n",
    "plt.ylim([0.0, 1.05])\n",
    "plt.xlabel('False Positive Rate')\n",
    "plt.ylabel('True Positive Rate')\n",
    "plt.title('Receiver operating characteristic for multi-class data')\n",
    "plt.legend(loc=\"lower right\")\n",
    "plt.show()"
   ]
  },
  {
   "cell_type": "markdown",
   "metadata": {
    "id": "ewqFrsvp50bb"
   },
   "source": [
    "## Model 3: QDA"
   ]
  },
  {
   "cell_type": "code",
   "execution_count": null,
   "metadata": {
    "colab": {
     "base_uri": "https://localhost:8080/"
    },
    "id": "lreMYz9H50bc",
    "outputId": "4bc7a6a0-bb7c-4995-debe-87005b0beff2"
   },
   "outputs": [
    {
     "name": "stdout",
     "output_type": "stream",
     "text": [
      "CPU times: user 428 ms, sys: 51.3 ms, total: 480 ms\n",
      "Wall time: 2.87 s\n",
      "0.9283333333333333\n"
     ]
    }
   ],
   "source": [
    "estimator_3 = QuadraticDiscriminantAnalysis()\n",
    "parameters_3 = {\n",
    "    'reg_param': (0.00001, 0.0001, 0.001,0.01, 0.1), \n",
    "    'store_covariance': (True, False),\n",
    "    'tol': (0.0001, 0.001,0.01, 0.1), \n",
    "                   }\n",
    "# with GridSearch\n",
    "grid_search_qda = GridSearchCV(\n",
    "    estimator=estimator_3,\n",
    "    param_grid=parameters_3,\n",
    "    scoring = 'accuracy',\n",
    "    n_jobs = -1,\n",
    "    cv = 5\n",
    ")\n",
    "%time grid_search_qda.fit(X_train, y_train)\n",
    "qda = grid_search_qda.fit(X_train, y_train)\n",
    "pred_qda =qda.predict(X_test)\n",
    "\n",
    "print(accuracy_score(y_test, pred_qda))"
   ]
  },
  {
   "cell_type": "code",
   "execution_count": null,
   "metadata": {
    "id": "LRy54aSw50bc"
   },
   "outputs": [],
   "source": [
    "X1 = X_train.to_numpy()\n",
    "y1 = y_train.to_numpy()\n",
    "\n",
    "# Binarize the output\n",
    "y_bin = label_binarize(y1, classes=[0, 1, 2, 3])\n",
    "n_classes = y_bin.shape[1]\n",
    "\n",
    "clf = qda\n",
    "y_score = cross_val_predict(clf, X1, y1, cv=10 ,method='predict_proba')\n",
    "\n",
    "fpr = dict()\n",
    "tpr = dict()\n",
    "roc_auc = dict()\n",
    "for i in range(n_classes):\n",
    "    fpr[i], tpr[i], _ = roc_curve(y_bin[:, i], y_score[:, i])\n",
    "    roc_auc[i] = auc(fpr[i], tpr[i])\n",
    "colors = cycle(['blue', 'red', 'green','orange'])\n",
    "\n",
    "plt.figure(figsize=(10,6))\n",
    "\n",
    "for i, color in zip(range(n_classes), colors):\n",
    "    plt.plot(fpr[i], tpr[i], color=color,\n",
    "             label='ROC curve of class {0} (area = {1:0.2f})'\n",
    "             ''.format(i, roc_auc[i]))\n",
    "\n",
    "plt.plot([0, 1], [0, 1], 'k--',linewidth=0.001)\n",
    "plt.xlim([-0.05, 1.0])\n",
    "plt.ylim([0.0, 1.05])\n",
    "plt.xlabel('False Positive Rate')\n",
    "plt.ylabel('True Positive Rate')\n",
    "plt.title('Receiver operating characteristic for multi-class data')\n",
    "plt.legend(loc=\"lower right\")\n",
    "plt.show()\n"
   ]
  },
  {
   "cell_type": "markdown",
   "metadata": {
    "id": "RsHIYCEX50bc"
   },
   "source": [
    "## Model 4: KNN"
   ]
  },
  {
   "cell_type": "code",
   "execution_count": null,
   "metadata": {
    "id": "-YnT3WlK50bc"
   },
   "outputs": [],
   "source": [
    "def train_knn(feature_train,label_train,n_neighbors):\n",
    "    # Input: feature data frame, label series, model parameters\n",
    "    # Output: time to train model, trained model\n",
    "    start = time.time()\n",
    "    knn = KNeighborsClassifier(n_neighbors=n_neighbors).fit(feature_train,label_train)\n",
    "    end = time.time()\n",
    "    train_time = end-start\n",
    "    return [train_time,knn]"
   ]
  },
  {
   "cell_type": "code",
   "execution_count": null,
   "metadata": {
    "id": "QH7_Ke_H50bd"
   },
   "outputs": [],
   "source": [
    "run_knn = True\n",
    "feature_train,feature_test,label_train,label_test=train_test_split(train,y,test_size=0.3)"
   ]
  },
  {
   "cell_type": "code",
   "execution_count": null,
   "metadata": {
    "id": "s-ik2JzF50bd"
   },
   "outputs": [],
   "source": [
    "def compute_metrics(feature_test,label_test,test_preds, model):\n",
    "    classification_error = np.mean(np.array(test_preds) != np.array(label_test))\n",
    "    accuracy = 1-classification_error\n",
    "    test_probs = model.predict_proba(feature_test)[:,1]\n",
    "    return [accuracy]\n",
    "\n",
    "def test_model(model, feature_test):\n",
    "    # Input: test features, a trained model\n",
    "    # Output: prediction time, test predictions\n",
    "    start = time.time()\n",
    "    test_preds = model.predict(feature_test)\n",
    "    end = time.time()\n",
    "    prediction_time = end-start\n",
    "    return [prediction_time,test_preds]"
   ]
  },
  {
   "cell_type": "code",
   "execution_count": null,
   "metadata": {
    "id": "Lgn5wdkV50bd"
   },
   "outputs": [],
   "source": [
    "if run_knn == True:    \n",
    "    [train_time, knn] = train_knn(feature_train,label_train,n_neighbors=25)\n",
    "    print('\\nTraining time: {:4f} seconds'.format(train_time))\n",
    "\n",
    "    [prediction_time,test_preds] = test_model(knn,feature_test)\n",
    "    print('Prediction time: {:4f} seconds'.format(prediction_time))\n",
    "    \n",
    "    [accuracy] = compute_metrics(feature_test,label_test,test_preds,knn)\n",
    "    print('\\nAccuracy: {:4f}'.format(accuracy))\n",
    "    #print('AUC: {:4f}'.format(auc))\n",
    "    \n",
    "    row = pd.Series({#'Feature Extraction Train Time':tm_feature_train_improved,\n",
    "        #'Feature Extraction Test Time':tm_feature_test_improved,\n",
    "         'Train Time':train_time,\n",
    "         'Prediction Time':prediction_time,\n",
    "        'Accuracy':accuracy},name='KNN')"
   ]
  },
  {
   "cell_type": "markdown",
   "metadata": {
    "id": "yNFxuMR-50bd"
   },
   "source": [
    "## Model 5: LDA"
   ]
  },
  {
   "cell_type": "code",
   "execution_count": null,
   "metadata": {
    "id": "shOE2Nq150be"
   },
   "outputs": [],
   "source": [
    "model = LDA(solver='eigen')\n",
    "# define model evaluation method\n",
    "cv = RepeatedStratifiedKFold(n_splits=10, n_repeats=3, random_state=1)\n",
    "# define grid\n",
    "grid = dict()\n",
    "grid['shrinkage'] = arange(0, 1, 0.01)\n",
    "# define search\n",
    "search = GridSearchCV(model, grid, scoring='accuracy', cv=cv, n_jobs=-1)\n",
    "# perform the search\n",
    "results = search.fit(X_train, y_train)\n",
    "y_pred=search.predict(X_test)\n",
    "# summarize\n",
    "print(accuracy_score(y_test, y_pred))\n",
    "print('Mean Accuracy: %.3f' % results.best_score_)\n",
    "print('Config: %s' % results.best_params_)"
   ]
  },
  {
   "cell_type": "markdown",
   "metadata": {
    "id": "T0et3gXS50be"
   },
   "source": [
    "## Model 6: XGB"
   ]
  },
  {
   "cell_type": "code",
   "execution_count": 25,
   "metadata": {
    "colab": {
     "base_uri": "https://localhost:8080/"
    },
    "id": "iycnFD5S6PyL",
    "outputId": "2764dfe8-7e4c-41b0-e5a2-bc2eef335468"
   },
   "outputs": [
    {
     "name": "stdout",
     "output_type": "stream",
     "text": [
      "0.9166666666666666\n"
     ]
    }
   ],
   "source": [
    "model_xgb = XGBClassifier()\n",
    "\n",
    "model_xgb.fit(X_train, y_train)\n",
    "pred = model_xgb.predict(X_test)\n",
    "\n",
    "accuracy = float(np.sum(pred==y_test))/y_test.shape[0]\n",
    "print(accuracy_score(y_test, pred))"
   ]
  },
  {
   "cell_type": "code",
   "execution_count": 75,
   "metadata": {
    "id": "tpC6H4P-F_BX"
   },
   "outputs": [],
   "source": [
    "# Parameter tuning to improve model performance\n",
    "# Note: the process takes about an hour to run. I commented out this part of code\n",
    "# def GridSearch_xgb(X_train, y_train):\n",
    "    \n",
    "#    params = {\n",
    "#        'learning_rate': [0.01, 0.1],\n",
    "#        'max_depth': [3, 5, 7, 10],\n",
    "#        'min_child_weight': [1, 3, 5],\n",
    "#        'subsample': [0.5, 0.7],\n",
    "#        'colsample_bytree': [0.5, 0.7],\n",
    "#        'n_estimators' : [100, 200, 500],\n",
    "#        'objective': ['binary:logistic']\n",
    "#    }\n",
    "\n",
    "#    xgb_model = XGBClassifier()\n",
    "\n",
    "#    gsearch = GridSearchCV(estimator = xgb_model,\n",
    "#                           param_grid = params,                        \n",
    "#                           cv = 5,\n",
    "#                           n_jobs = -1,\n",
    "#                           verbose = 1)\n",
    "#    gsearch.fit(X_train,y_train)\n",
    "#    y_pred=xgb1.predict(X_test)\n",
    "#    acc_xgb=accuracy_score(y_test, y_pred)\n",
    "#    return gsearch.best_params_ \n",
    "\n",
    "\n",
    "# GridSearch_xgb(X_train, y_train)"
   ]
  },
  {
   "cell_type": "code",
   "execution_count": 64,
   "metadata": {
    "colab": {
     "base_uri": "https://localhost:8080/"
    },
    "id": "3_nVcmW0J7V1",
    "outputId": "0e828d95-2e25-4177-b5f7-c8663c39c8ba"
   },
   "outputs": [
    {
     "name": "stdout",
     "output_type": "stream",
     "text": [
      "[11:52:38] WARNING: /Users/travis/build/dmlc/xgboost/src/learner.cc:516: \n",
      "Parameters: { silent } might not be used.\n",
      "\n",
      "  This may not be accurate due to some parameters are only used in language bindings but\n",
      "  passed down to XGBoost core.  Or some parameters are not used but slip through this\n",
      "  verification. Please open an issue if you find above cases.\n",
      "\n",
      "\n",
      "0.925\n"
     ]
    }
   ],
   "source": [
    "# Incorporating the results from Gridsearch to xgb model\n",
    "model_xgb_tuned = XGBClassifier(colsample_bytree=0.7,\n",
    "                                learning_rate=0.1, \n",
    "                                max_depth=3, \n",
    "                                min_child_weight=5, \n",
    "                                n_estimators=500, \n",
    "                                objective='binary:logistic', \n",
    "                                subsample=0.7, \n",
    "                                seed=123, \n",
    "                                silent=True)\n",
    "\n",
    "results = model_xgb_tuned.fit(X_train, y_train)\n",
    "y_pred_tuned=model_xgb_tuned.predict(X_test)\n",
    "print(accuracy_score(y_test, y_pred_tuned))"
   ]
  },
  {
   "cell_type": "markdown",
   "metadata": {
    "id": "nuie0gHs50be"
   },
   "source": [
    "## Model 7: SVM"
   ]
  },
  {
   "cell_type": "code",
   "execution_count": 68,
   "metadata": {
    "scrolled": true
   },
   "outputs": [
    {
     "name": "stdout",
     "output_type": "stream",
     "text": [
      "\n",
      "Accuracy: 0.841667\n"
     ]
    }
   ],
   "source": [
    "# basic SVM model\n",
    "svm_model = SVC()\n",
    "svm_model.fit(X_train, y_train)\n",
    "test_preds = svm_model.predict(X_test)\n",
    "accuracy = accuracy_score(y_test, test_preds)\n",
    "print('\\nAccuracy: {:4f}'.format(accuracy))"
   ]
  },
  {
   "cell_type": "code",
   "execution_count": 71,
   "metadata": {},
   "outputs": [
    {
     "data": {
      "text/plain": [
       "{'C': 15, 'degree': 2, 'kernel': 'linear'}"
      ]
     },
     "execution_count": 71,
     "metadata": {},
     "output_type": "execute_result"
    }
   ],
   "source": [
    "# grid search\n",
    "# 1. Kernel: transform the dataset into the required form, \n",
    "# choose 'linear', 'poly' and 'rbf' since teh datset is not complex\n",
    "# 2. C: regularization, smaller C is less error bearable\n",
    "# 3. degree: degree for poly\n",
    "params = {'C': [0.001,0.01,1,10,15,20],\n",
    "        'kernel':['linear', 'rbf', 'poly'],\n",
    "        'degree':[2,3,4]}\n",
    "gscv = GridSearchCV(SVC(random_state = 2020), params, cv=5, return_train_score=True)\n",
    "gscv.fit(X_train, y_train)\n",
    "gscv.best_params_\n",
    "# #output: {'C': 15, 'degree': 2, 'kernel': 'linear'}"
   ]
  },
  {
   "cell_type": "code",
   "execution_count": 74,
   "metadata": {},
   "outputs": [
    {
     "name": "stdout",
     "output_type": "stream",
     "text": [
      "\n",
      "Accuracy: 0.961667\n"
     ]
    }
   ],
   "source": [
    "#improved svm using parameters from grid search\n",
    "# basic SVM model\n",
    "svm_model = SVC(C=15,\n",
    "               kernel='linear',\n",
    "               degree=2)\n",
    "svm_model.fit(X_train, y_train)\n",
    "test_preds = svm_model.predict(X_test)\n",
    "accuracy = accuracy_score(y_test, test_preds)\n",
    "print('\\nAccuracy: {:4f}'.format(accuracy))"
   ]
  },
  {
   "cell_type": "markdown",
   "metadata": {
    "id": "CGf3BUez50be"
   },
   "source": [
    "## Model 8:"
   ]
  },
  {
   "cell_type": "markdown",
   "metadata": {
    "id": "biSARCRx50be"
   },
   "source": [
    "## Model 9:"
   ]
  },
  {
   "cell_type": "code",
   "execution_count": null,
   "metadata": {
    "id": "EE1TsfhH50be"
   },
   "outputs": [],
   "source": []
  }
 ],
 "metadata": {
  "colab": {
   "collapsed_sections": [],
   "name": "Main.ipynb",
   "provenance": []
  },
  "kernelspec": {
   "display_name": "Python 3",
   "language": "python",
   "name": "python3"
  },
  "language_info": {
   "codemirror_mode": {
    "name": "ipython",
    "version": 3
   },
   "file_extension": ".py",
   "mimetype": "text/x-python",
   "name": "python",
   "nbconvert_exporter": "python",
   "pygments_lexer": "ipython3",
   "version": "3.7.6"
  }
 },
 "nbformat": 4,
 "nbformat_minor": 1
}
